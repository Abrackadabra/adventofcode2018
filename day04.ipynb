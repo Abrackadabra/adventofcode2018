{
 "cells": [
  {
   "cell_type": "code",
   "execution_count": 1,
   "metadata": {},
   "outputs": [
    {
     "name": "stdout",
     "output_type": "stream",
     "text": [
      "Populating the interactive namespace from numpy and matplotlib\n"
     ]
    }
   ],
   "source": [
    "%pylab inline"
   ]
  },
  {
   "cell_type": "code",
   "execution_count": 10,
   "metadata": {},
   "outputs": [],
   "source": [
    "import requests\n",
    "import itertools\n",
    "from tqdm import tqdm_notebook as tqdm\n",
    "import re\n",
    "import collections\n",
    "\n",
    "amap = lambda *args, **kwargs: array(list(map(*args)), **kwargs)"
   ]
  },
  {
   "cell_type": "code",
   "execution_count": 3,
   "metadata": {},
   "outputs": [],
   "source": [
    "DAY = 4\n",
    "headers = {\n",
    "    'Cookie': ''\n",
    "}"
   ]
  },
  {
   "cell_type": "code",
   "execution_count": 4,
   "metadata": {},
   "outputs": [
    {
     "name": "stdout",
     "output_type": "stream",
     "text": [
      "[1518-08-06 00:13] falls asleep\n",
      "[1518-06-10 00:37] wakes up\n",
      "[1518-07-08 00:20] wakes up\n",
      "[1518-05-13 ...\n"
     ]
    }
   ],
   "source": [
    "r = requests.get(f'https://adventofcode.com/2018/day/{DAY}/input', headers=headers)\n",
    "print(r.text[:100], end='...\\n' if len(r.text) > 100 else '\\n')\n",
    "assert r.status_code == 200"
   ]
  },
  {
   "cell_type": "code",
   "execution_count": 5,
   "metadata": {},
   "outputs": [],
   "source": [
    "lines = r.text.split('\\n')\n",
    "if lines[-1] == '':\n",
    "    lines = lines[:-1]"
   ]
  },
  {
   "cell_type": "code",
   "execution_count": 7,
   "metadata": {},
   "outputs": [],
   "source": [
    "lines = sorted(lines)"
   ]
  },
  {
   "cell_type": "code",
   "execution_count": 9,
   "metadata": {},
   "outputs": [
    {
     "data": {
      "text/plain": [
       "['[1518-02-10 23:56] Guard #1487 begins shift',\n",
       " '[1518-02-11 00:14] falls asleep',\n",
       " '[1518-02-11 00:40] wakes up',\n",
       " '[1518-02-11 23:53] Guard #1493 begins shift',\n",
       " '[1518-02-12 00:04] falls asleep']"
      ]
     },
     "execution_count": 9,
     "metadata": {},
     "output_type": "execute_result"
    }
   ],
   "source": [
    "lines[:5]"
   ]
  },
  {
   "cell_type": "code",
   "execution_count": 11,
   "metadata": {},
   "outputs": [],
   "source": []
  },
  {
   "cell_type": "code",
   "execution_count": 13,
   "metadata": {},
   "outputs": [],
   "source": [
    "guards = collections.defaultdict(lambda: zeros(60, dtype=int))\n",
    "curguard = None\n",
    "l = None\n",
    "\n",
    "for line in lines:\n",
    "    m = re.findall(r'\\[.* (\\d+):(\\d+)\\] Guard #(\\d+) begins shift', line)\n",
    "    if m:\n",
    "        curguard = int(m[0][-1])\n",
    "        continue\n",
    "        \n",
    "    m = re.findall(r'\\[.* (\\d+):(\\d+)\\] falls asleep', line)\n",
    "    if m:\n",
    "        H, M = amap(int, m[0])\n",
    "        assert H == 0\n",
    "        l = M\n",
    "        continue\n",
    "    m = re.findall(r'\\[.* (\\d+):(\\d+)\\] wakes up', line)\n",
    "    if m:\n",
    "        H, M = amap(int, m[0])\n",
    "        assert H == 0\n",
    "        r = M\n",
    "        guards[curguard][l:r] += 1\n",
    "        continue"
   ]
  },
  {
   "cell_type": "code",
   "execution_count": 16,
   "metadata": {},
   "outputs": [
    {
     "name": "stdout",
     "output_type": "stream",
     "text": [
      "1487 461 38\n",
      "131 489 36\n"
     ]
    }
   ],
   "source": [
    "m = -1\n",
    "for i, j in guards.items():\n",
    "    s = sum(j)\n",
    "    if s > m:\n",
    "        m = s\n",
    "        print(i, m, argmax(j))"
   ]
  },
  {
   "cell_type": "code",
   "execution_count": 17,
   "metadata": {},
   "outputs": [
    {
     "data": {
      "text/plain": [
       "4716"
      ]
     },
     "execution_count": 17,
     "metadata": {},
     "output_type": "execute_result"
    }
   ],
   "source": [
    "131 * 36"
   ]
  },
  {
   "cell_type": "code",
   "execution_count": 19,
   "metadata": {},
   "outputs": [
    {
     "name": "stdout",
     "output_type": "stream",
     "text": [
      "1487 13 38\n",
      "1493 14 26\n",
      "2389 15 49\n"
     ]
    }
   ],
   "source": [
    "m = -1\n",
    "for i, j in guards.items():\n",
    "    s = max(j)\n",
    "    if s > m:\n",
    "        m = s\n",
    "        print(i, m, argmax(j))"
   ]
  },
  {
   "cell_type": "code",
   "execution_count": 20,
   "metadata": {},
   "outputs": [
    {
     "data": {
      "text/plain": [
       "117061"
      ]
     },
     "execution_count": 20,
     "metadata": {},
     "output_type": "execute_result"
    }
   ],
   "source": [
    "2389*49"
   ]
  }
 ],
 "metadata": {
  "kernelspec": {
   "display_name": "Python 3",
   "language": "python",
   "name": "python3"
  },
  "language_info": {
   "codemirror_mode": {
    "name": "ipython",
    "version": 3
   },
   "file_extension": ".py",
   "mimetype": "text/x-python",
   "name": "python",
   "nbconvert_exporter": "python",
   "pygments_lexer": "ipython3",
   "version": "3.7.0"
  }
 },
 "nbformat": 4,
 "nbformat_minor": 2
}
