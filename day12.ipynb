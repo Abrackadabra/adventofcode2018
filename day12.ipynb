{
 "cells": [
  {
   "cell_type": "code",
   "execution_count": null,
   "metadata": {},
   "outputs": [],
   "source": [
    "%pylab inline"
   ]
  },
  {
   "cell_type": "code",
   "execution_count": null,
   "metadata": {},
   "outputs": [],
   "source": [
    "import requests\n",
    "import itertools\n",
    "from tqdm import tqdm_notebook as tqdm\n",
    "import re\n",
    "import collections\n",
    "\n",
    "amap = lambda *args, **kwargs: array(list(map(*args)), **kwargs)\n",
    "letters = array([chr(i) for i in range(ord('A'), ord('Z') + 1)])"
   ]
  },
  {
   "cell_type": "code",
   "execution_count": null,
   "metadata": {},
   "outputs": [],
   "source": [
    "DAY = 12\n",
    "\n",
    "with open('cookie') as file:\n",
    "    cookie = file.read()\n",
    "    \n",
    "headers = {\n",
    "    'Cookie': cookie\n",
    "}"
   ]
  },
  {
   "cell_type": "code",
   "execution_count": null,
   "metadata": {},
   "outputs": [],
   "source": [
    "r = requests.get(f'https://adventofcode.com/2018/day/{DAY}/input', headers=headers)\n",
    "print(r.text[:100], end='...\\n' if len(r.text) > 100 else '\\n')\n",
    "assert r.status_code == 200\n",
    "\n",
    "main_input = r.text\n",
    "\n",
    "lines = main_input.split('\\n')\n",
    "if lines[-1] == '':\n",
    "    lines = lines[:-1]"
   ]
  },
  {
   "cell_type": "code",
   "execution_count": null,
   "metadata": {},
   "outputs": [],
   "source": [
    "for line in lines:\n",
    "    ###\n",
    "    ###CODE HERE\n",
    "    ###"
   ]
  }
 ],
 "metadata": {
  "kernelspec": {
   "display_name": "Python 3",
   "language": "python",
   "name": "python3"
  },
  "language_info": {
   "codemirror_mode": {
    "name": "ipython",
    "version": 3
   },
   "file_extension": ".py",
   "mimetype": "text/x-python",
   "name": "python",
   "nbconvert_exporter": "python",
   "pygments_lexer": "ipython3",
   "version": "3.7.0"
  }
 },
 "nbformat": 4,
 "nbformat_minor": 2
}
