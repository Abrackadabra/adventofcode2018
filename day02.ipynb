{
 "cells": [
  {
   "cell_type": "code",
   "execution_count": 1,
   "metadata": {},
   "outputs": [
    {
     "name": "stdout",
     "output_type": "stream",
     "text": [
      "Populating the interactive namespace from numpy and matplotlib\n"
     ]
    }
   ],
   "source": [
    "%pylab inline"
   ]
  },
  {
   "cell_type": "code",
   "execution_count": 2,
   "metadata": {},
   "outputs": [],
   "source": [
    "import requests\n",
    "import itertools\n",
    "import tqdm\n",
    "\n",
    "amap = lambda *args, **kwargs: array(list(map(*args)), **kwargs)"
   ]
  },
  {
   "cell_type": "code",
   "execution_count": 3,
   "metadata": {},
   "outputs": [],
   "source": [
    "DAY = 2\n",
    "headers = {\n",
    "    'Cookie': ''\n",
    "}"
   ]
  },
  {
   "cell_type": "code",
   "execution_count": 5,
   "metadata": {},
   "outputs": [
    {
     "name": "stdout",
     "output_type": "stream",
     "text": [
      "rvefnvyxzbodgpnpkumawhijsc\n",
      "rvefqtyxzsddglnppumawhijsc\n",
      "rvefqtywzbodglnkkubawhijsc\n",
      "rvefqpyxzbozglnpkum...\n"
     ]
    }
   ],
   "source": [
    "r = requests.get(f'https://adventofcode.com/2018/day/{DAY}/input', headers=headers)\n",
    "print(r.text[:100], end='...\\n' if len(r.text) > 100 else '\\n')\n",
    "assert r.status_code == 200"
   ]
  },
  {
   "cell_type": "code",
   "execution_count": 6,
   "metadata": {},
   "outputs": [],
   "source": [
    "import collections"
   ]
  },
  {
   "cell_type": "code",
   "execution_count": 7,
   "metadata": {},
   "outputs": [],
   "source": [
    "lines = r.text.split('\\n')\n",
    "if lines[-1] == '':\n",
    "    lines = lines[:-1]"
   ]
  },
  {
   "cell_type": "code",
   "execution_count": 9,
   "metadata": {},
   "outputs": [
    {
     "data": {
      "text/plain": [
       "dict_values([1, 2, 1, 1, 2, 1, 1, 1, 1, 1, 1, 1, 2, 1, 1, 1, 1, 1, 1, 1, 1, 1, 1])"
      ]
     },
     "execution_count": 9,
     "metadata": {},
     "output_type": "execute_result"
    }
   ],
   "source": [
    "c = collections.Counter(lines[0])\n",
    "c.values()"
   ]
  },
  {
   "cell_type": "code",
   "execution_count": 15,
   "metadata": {},
   "outputs": [],
   "source": [
    "d = collections.defaultdict(int)\n",
    "\n",
    "for line in lines:\n",
    "    c = collections.Counter(line)\n",
    "    \n",
    "    for i in set(list(c.values())):\n",
    "        if i > 1:\n",
    "            d[i] += 1"
   ]
  },
  {
   "cell_type": "code",
   "execution_count": 19,
   "metadata": {},
   "outputs": [
    {
     "data": {
      "text/plain": [
       "6150"
      ]
     },
     "execution_count": 19,
     "metadata": {},
     "output_type": "execute_result"
    }
   ],
   "source": [
    "product(list(d.values()))"
   ]
  },
  {
   "cell_type": "code",
   "execution_count": null,
   "metadata": {},
   "outputs": [],
   "source": []
  },
  {
   "cell_type": "code",
   "execution_count": 21,
   "metadata": {},
   "outputs": [
    {
     "name": "stdout",
     "output_type": "stream",
     "text": [
      "rtehotyxzbodglnpkudawhijsc\n",
      "rtefotyxzbodglnpkudawhijsc\n"
     ]
    }
   ],
   "source": [
    "for i, j in itertools.combinations(lines, 2):\n",
    "    diff = sum([1 if i[k] != j[k] else 0 for k in range(len(i))])\n",
    "    if diff == 1:\n",
    "        print(i)\n",
    "        print(j)"
   ]
  }
 ],
 "metadata": {
  "kernelspec": {
   "display_name": "Python 3",
   "language": "python",
   "name": "python3"
  },
  "language_info": {
   "codemirror_mode": {
    "name": "ipython",
    "version": 3
   },
   "file_extension": ".py",
   "mimetype": "text/x-python",
   "name": "python",
   "nbconvert_exporter": "python",
   "pygments_lexer": "ipython3",
   "version": "3.7.0"
  }
 },
 "nbformat": 4,
 "nbformat_minor": 2
}
