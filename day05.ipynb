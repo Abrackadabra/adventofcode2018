{
 "cells": [
  {
   "cell_type": "code",
   "execution_count": 1,
   "metadata": {},
   "outputs": [
    {
     "name": "stdout",
     "output_type": "stream",
     "text": [
      "Populating the interactive namespace from numpy and matplotlib\n"
     ]
    }
   ],
   "source": [
    "%pylab inline"
   ]
  },
  {
   "cell_type": "code",
   "execution_count": 2,
   "metadata": {},
   "outputs": [],
   "source": [
    "import requests\n",
    "import itertools\n",
    "from tqdm import tqdm_notebook as tqdm\n",
    "import re\n",
    "import collections\n",
    "\n",
    "amap = lambda *args, **kwargs: array(list(map(*args)), **kwargs)"
   ]
  },
  {
   "cell_type": "code",
   "execution_count": 3,
   "metadata": {},
   "outputs": [],
   "source": [
    "DAY = 5\n",
    "headers = {\n",
    "    'Cookie': ''\n",
    "}"
   ]
  },
  {
   "cell_type": "code",
   "execution_count": 8,
   "metadata": {},
   "outputs": [
    {
     "name": "stdout",
     "output_type": "stream",
     "text": [
      "bBkKQqgaAGzyYZCcGgXVvGgxQxtTXwWqJOojHhWwHhAaIZKkzcCCcHhqhHbBnNNnTtFfQzZiGgeEmHhgGMDdYyfFKJVvjAaAaoeE...\n"
     ]
    }
   ],
   "source": [
    "r = requests.get(f'https://adventofcode.com/2018/day/{DAY}/input', headers=headers)\n",
    "print(r.text[:100], end='...\\n' if len(r.text) > 100 else '\\n')\n",
    "assert r.status_code == 200\n",
    "main_input = r.text"
   ]
  },
  {
   "cell_type": "code",
   "execution_count": null,
   "metadata": {},
   "outputs": [],
   "source": [
    "test_input = \"\"\"\n",
    "\n",
    "\"\"\".strip()"
   ]
  },
  {
   "cell_type": "code",
   "execution_count": 10,
   "metadata": {},
   "outputs": [
    {
     "name": "stdout",
     "output_type": "stream",
     "text": [
      "aA|Aa|bB|Bb|cC|Cc|dD|Dd|eE|Ee|fF|Ff|gG|Gg|hH|Hh|iI|Ii|jJ|Jj|kK|Kk|lL|Ll|mM|Mm|nN|Nn|oO|Oo|pP|Pp|qQ|Qq|rR|Rr|sS|Ss|tT|Tt|uU|Uu|vV|Vv|wW|Ww|xX|Xx|yY|Yy|zZ|Zz|"
     ]
    }
   ],
   "source": [
    "for i in range(ord('a'), ord('z') + 1):\n",
    "    j = i - ord('a')\n",
    "    print(f'{chr(ord(\"a\") + j)}{chr(ord(\"A\") + j)}|', end='')\n",
    "    print(f'{chr(ord(\"A\") + j)}{chr(ord(\"a\") + j)}|', end='')"
   ]
  },
  {
   "cell_type": "code",
   "execution_count": 20,
   "metadata": {},
   "outputs": [],
   "source": [
    "def match(a, b):\n",
    "    return a.lower() == b.lower() and len(a) == 1 and len(b) == 1 and a != b"
   ]
  },
  {
   "cell_type": "code",
   "execution_count": 21,
   "metadata": {},
   "outputs": [],
   "source": [
    "def reduce(s):\n",
    "    a = collections.deque()\n",
    "    \n",
    "    for i in s:\n",
    "        a.append(i)\n",
    "        \n",
    "        while len(a) >= 2 and match(a[-1], a[-2]):\n",
    "            a.pop()\n",
    "            a.pop()\n",
    "    \n",
    "    return len(a)"
   ]
  },
  {
   "cell_type": "code",
   "execution_count": 16,
   "metadata": {},
   "outputs": [
    {
     "data": {
      "application/vnd.jupyter.widget-view+json": {
       "model_id": "",
       "version_major": 2,
       "version_minor": 0
      },
      "text/plain": [
       "HBox(children=(IntProgress(value=0, max=100000), HTML(value='')))"
      ]
     },
     "metadata": {},
     "output_type": "display_data"
    },
    {
     "name": "stdout",
     "output_type": "stream",
     "text": [
      "10598\n"
     ]
    }
   ],
   "source": [
    "def solve(input_str):\n",
    "    lines = input_str.split('\\n')\n",
    "    if lines[-1] == '':\n",
    "        lines = lines[:-1]\n",
    "\n",
    "    s = lines[0]\n",
    "    l = len(s)\n",
    "    \n",
    "    for i in tqdm(arange(100000)):\n",
    "        s = re.sub(r'aA|Aa|bB|Bb|cC|Cc|dD|Dd|eE|Ee|fF|Ff|gG|Gg|hH|Hh|iI|Ii|jJ|Jj|kK|Kk|lL|Ll|mM|Mm|nN|Nn|oO|Oo|pP|Pp|qQ|Qq|rR|Rr|sS|Ss|tT|Tt|uU|Uu|vV|Vv|wW|Ww|xX|Xx|yY|Yy|zZ|Zz', '', s)\n",
    "        if l == len(s):\n",
    "            break\n",
    "        l = len(s)\n",
    "    \n",
    "    print(l)\n",
    "\n",
    "solve(main_input)"
   ]
  },
  {
   "cell_type": "code",
   "execution_count": 23,
   "metadata": {},
   "outputs": [
    {
     "name": "stdout",
     "output_type": "stream",
     "text": [
      "0 10174\n",
      "1 10180\n",
      "2 10136\n",
      "3 10174\n",
      "4 10150\n",
      "5 10184\n",
      "6 10158\n",
      "7 10162\n",
      "8 10200\n",
      "9 5312\n",
      "10 10140\n",
      "11 10172\n",
      "12 10138\n",
      "13 10162\n",
      "14 10180\n",
      "15 10200\n",
      "16 10182\n",
      "17 10194\n",
      "18 10204\n",
      "19 10154\n",
      "20 10190\n",
      "21 10170\n",
      "22 10202\n",
      "23 10144\n",
      "24 10156\n",
      "25 10206\n",
      "50000\n"
     ]
    }
   ],
   "source": [
    "def solve(input_str):\n",
    "    lines = input_str.split('\\n')\n",
    "    if lines[-1] == '':\n",
    "        lines = lines[:-1]\n",
    "\n",
    "    s = lines[0]\n",
    "    l = len(s)\n",
    "    \n",
    "    for i in range(26):\n",
    "        x = re.sub(f'{chr(ord(\"a\") + i)}|{chr(ord(\"A\") + i)}', '', s)\n",
    "        print(i, reduce(x))\n",
    "    \n",
    "    print(l)\n",
    "\n",
    "solve(main_input)"
   ]
  },
  {
   "cell_type": "code",
   "execution_count": null,
   "metadata": {},
   "outputs": [],
   "source": [
    "solve(test_input)"
   ]
  }
 ],
 "metadata": {
  "kernelspec": {
   "display_name": "Python 3",
   "language": "python",
   "name": "python3"
  },
  "language_info": {
   "codemirror_mode": {
    "name": "ipython",
    "version": 3
   },
   "file_extension": ".py",
   "mimetype": "text/x-python",
   "name": "python",
   "nbconvert_exporter": "python",
   "pygments_lexer": "ipython3",
   "version": "3.7.0"
  }
 },
 "nbformat": 4,
 "nbformat_minor": 2
}
