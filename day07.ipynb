{
 "cells": [
  {
   "cell_type": "code",
   "execution_count": 1,
   "metadata": {},
   "outputs": [
    {
     "name": "stdout",
     "output_type": "stream",
     "text": [
      "Populating the interactive namespace from numpy and matplotlib\n"
     ]
    }
   ],
   "source": [
    "%pylab inline"
   ]
  },
  {
   "cell_type": "code",
   "execution_count": 2,
   "metadata": {},
   "outputs": [],
   "source": [
    "import requests\n",
    "import itertools\n",
    "from tqdm import tqdm_notebook as tqdm\n",
    "import re\n",
    "import collections\n",
    "\n",
    "amap = lambda *args, **kwargs: array(list(map(*args)), **kwargs)"
   ]
  },
  {
   "cell_type": "code",
   "execution_count": 19,
   "metadata": {},
   "outputs": [],
   "source": [
    "DAY = 7\n",
    "\n",
    "with open('cookie') as file:\n",
    "    cookie = file.read()\n",
    "    \n",
    "headers = {\n",
    "    'Cookie': cookie\n",
    "}"
   ]
  },
  {
   "cell_type": "code",
   "execution_count": 20,
   "metadata": {},
   "outputs": [
    {
     "name": "stdout",
     "output_type": "stream",
     "text": [
      "Step M must be finished before step D can begin.\n",
      "Step E must be finished before step Z can begin.\n",
      "St...\n"
     ]
    }
   ],
   "source": [
    "r = requests.get(f'https://adventofcode.com/2018/day/{DAY}/input', headers=headers)\n",
    "print(r.text[:100], end='...\\n' if len(r.text) > 100 else '\\n')\n",
    "assert r.status_code == 200\n",
    "\n",
    "main_input = r.text\n",
    "\n",
    "lines = main_input.split('\\n')\n",
    "if lines[-1] == '':\n",
    "    lines = lines[:-1]"
   ]
  },
  {
   "cell_type": "code",
   "execution_count": 7,
   "metadata": {},
   "outputs": [],
   "source": [
    "prereq = collections.defaultdict(set)\n",
    "\n",
    "for line in lines:\n",
    "    m = re.findall(r'Step (.) must be finished before step (.) can begin.', line)[0]\n",
    "    prereq[m[1]].add(m[0])"
   ]
  },
  {
   "cell_type": "code",
   "execution_count": 8,
   "metadata": {},
   "outputs": [
    {
     "data": {
      "text/plain": [
       "defaultdict(set,\n",
       "            {'D': {'A', 'B', 'I', 'J', 'M', 'R', 'V'},\n",
       "             'Z': {'E', 'G', 'K', 'L', 'Q'},\n",
       "             'W': {'E', 'F'},\n",
       "             'K': {'T'},\n",
       "             'Q': {'E', 'K', 'T'},\n",
       "             'V': {'G', 'H'},\n",
       "             'P': {'B', 'Q', 'T', 'W'},\n",
       "             'S': {'A', 'B', 'G', 'H', 'P', 'T', 'V', 'X'},\n",
       "             'R': {'F', 'I', 'J', 'P', 'X', 'Z'},\n",
       "             'U': {'A', 'I', 'J', 'M', 'R', 'S', 'V', 'X'},\n",
       "             'Y': {'B', 'D', 'E', 'J', 'Q', 'S', 'U', 'X'},\n",
       "             'C': {'D', 'J', 'M', 'N', 'O', 'T', 'V', 'X'},\n",
       "             'N': {'D', 'E', 'G', 'O', 'P', 'R', 'X', 'Y'},\n",
       "             'O': {'D', 'E', 'F', 'H', 'Q', 'R', 'U', 'V', 'W', 'X', 'Y'},\n",
       "             'I': {'F', 'G'},\n",
       "             'X': {'A', 'G', 'I', 'K', 'P', 'V'},\n",
       "             'J': {'V', 'Z'},\n",
       "             'G': {'L', 'P', 'W'},\n",
       "             'A': {'B', 'F', 'Q', 'W'},\n",
       "             'B': {'Q'},\n",
       "             'L': {'F'},\n",
       "             'H': {'E'}})"
      ]
     },
     "execution_count": 8,
     "metadata": {},
     "output_type": "execute_result"
    }
   ],
   "source": [
    "prereq"
   ]
  },
  {
   "cell_type": "code",
   "execution_count": 17,
   "metadata": {},
   "outputs": [
    {
     "data": {
      "text/plain": [
       "array(['A', 'B', 'C', 'D', 'E', 'F', 'G', 'H', 'I', 'J', 'K', 'L', 'M',\n",
       "       'N', 'O', 'P', 'Q', 'R', 'S', 'T', 'U', 'V', 'W', 'X', 'Y', 'Z'],\n",
       "      dtype='<U1')"
      ]
     },
     "execution_count": 17,
     "metadata": {},
     "output_type": "execute_result"
    }
   ],
   "source": [
    "S = array([chr(i) for i in range(ord('A'), ord('Z') + 1)])\n",
    "S"
   ]
  },
  {
   "cell_type": "code",
   "execution_count": 13,
   "metadata": {},
   "outputs": [
    {
     "name": "stdout",
     "output_type": "stream",
     "text": [
      "EFHLMTKQBWAPGIVXSZJRDUYONC"
     ]
    }
   ],
   "source": [
    "has = set()\n",
    "\n",
    "for i in range(100):\n",
    "    for j in S:\n",
    "        if j not in has and prereq[j] & has == prereq[j]:\n",
    "            print(j, end='')\n",
    "            has.add(j)\n",
    "            break"
   ]
  },
  {
   "cell_type": "code",
   "execution_count": 16,
   "metadata": {},
   "outputs": [
    {
     "name": "stdout",
     "output_type": "stream",
     "text": [
      "1056\n"
     ]
    }
   ],
   "source": [
    "has = set()\n",
    "\n",
    "working_on = [None] * 5\n",
    "time_left = zeros(5, dtype=int)\n",
    "\n",
    "for i in range(100000):\n",
    "    for j in range(5):\n",
    "        if working_on[j] is not None:\n",
    "            time_left[j] -= 1\n",
    "            if time_left[j] == 0:\n",
    "                has.add(working_on[j])\n",
    "                working_on[j] = None\n",
    "    \n",
    "    if set(S) == has:\n",
    "        print(i)\n",
    "        break\n",
    "    \n",
    "    for j in range(5):\n",
    "        if working_on[j] is not None:\n",
    "            continue\n",
    "            \n",
    "        for k in S:\n",
    "            if k not in has and k not in working_on and prereq[k] & has == prereq[k]:\n",
    "                working_on[j] = k\n",
    "                time_left[j] = 60 + ord(k) - ord('A') + 1\n",
    "                break"
   ]
  }
 ],
 "metadata": {
  "kernelspec": {
   "display_name": "Python 3",
   "language": "python",
   "name": "python3"
  },
  "language_info": {
   "codemirror_mode": {
    "name": "ipython",
    "version": 3
   },
   "file_extension": ".py",
   "mimetype": "text/x-python",
   "name": "python",
   "nbconvert_exporter": "python",
   "pygments_lexer": "ipython3",
   "version": "3.7.0"
  }
 },
 "nbformat": 4,
 "nbformat_minor": 2
}
