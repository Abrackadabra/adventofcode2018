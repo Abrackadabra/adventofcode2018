{
 "cells": [
  {
   "cell_type": "code",
   "execution_count": 1,
   "metadata": {},
   "outputs": [
    {
     "name": "stdout",
     "output_type": "stream",
     "text": [
      "Populating the interactive namespace from numpy and matplotlib\n"
     ]
    }
   ],
   "source": [
    "%pylab inline"
   ]
  },
  {
   "cell_type": "code",
   "execution_count": 2,
   "metadata": {},
   "outputs": [],
   "source": [
    "import requests\n",
    "import itertools\n",
    "from tqdm import tqdm_notebook as tqdm\n",
    "import re\n",
    "import collections\n",
    "\n",
    "amap = lambda *args, **kwargs: array(list(map(*args)), **kwargs)"
   ]
  },
  {
   "cell_type": "code",
   "execution_count": 3,
   "metadata": {},
   "outputs": [],
   "source": [
    "DAY = 6\n",
    "headers = {\n",
    "    'Cookie': ''\n",
    "}"
   ]
  },
  {
   "cell_type": "code",
   "execution_count": 36,
   "metadata": {},
   "outputs": [
    {
     "name": "stdout",
     "output_type": "stream",
     "text": [
      "311, 74\n",
      "240, 84\n",
      "54, 241\n",
      "99, 336\n",
      "53, 244\n",
      "269, 353\n",
      "175, 75\n",
      "119, 271\n",
      "267, 301\n",
      "251, 248\n",
      "216, 259\n",
      "327, 50...\n"
     ]
    }
   ],
   "source": [
    "r = requests.get(f'https://adventofcode.com/2018/day/{DAY}/input', headers=headers)\n",
    "print(r.text[:100], end='...\\n' if len(r.text) > 100 else '\\n')\n",
    "assert r.status_code == 200\n",
    "\n",
    "main_input = r.text"
   ]
  },
  {
   "cell_type": "code",
   "execution_count": 31,
   "metadata": {},
   "outputs": [],
   "source": [
    "lines = main_input.split('\\n')\n",
    "if lines[-1] == '':\n",
    "    lines = lines[:-1]"
   ]
  },
  {
   "cell_type": "code",
   "execution_count": 26,
   "metadata": {},
   "outputs": [],
   "source": [
    "lines = \"\"\"1, 1\n",
    "1, 6\n",
    "8, 3\n",
    "3, 4\n",
    "5, 5\n",
    "8, 9\"\"\".split('\\n')"
   ]
  },
  {
   "cell_type": "code",
   "execution_count": null,
   "metadata": {},
   "outputs": [],
   "source": []
  },
  {
   "cell_type": "code",
   "execution_count": 32,
   "metadata": {},
   "outputs": [],
   "source": [
    "points = []\n",
    "\n",
    "for line in lines:\n",
    "    points.append(amap(int, line.split(', ')))\n",
    "    \n",
    "points = array(points, dtype=int)"
   ]
  },
  {
   "cell_type": "code",
   "execution_count": 33,
   "metadata": {},
   "outputs": [],
   "source": [
    "def distance(a, b, c, d):\n",
    "    return abs(a - c) + abs(b - d)"
   ]
  },
  {
   "cell_type": "code",
   "execution_count": 57,
   "metadata": {},
   "outputs": [],
   "source": [
    "directions = list(itertools.product(range(-3, 4), range(-3, 4)))"
   ]
  },
  {
   "cell_type": "code",
   "execution_count": 58,
   "metadata": {},
   "outputs": [
    {
     "name": "stdout",
     "output_type": "stream",
     "text": [
      "26 True 5035\n"
     ]
    }
   ],
   "source": [
    "# for i in range(len(points)):\n",
    "for i in [26]:\n",
    "    visited = set()\n",
    "    bad = set()\n",
    "    q = collections.deque()\n",
    "    \n",
    "    q.append((points[i][0], points[i][1]))\n",
    "    visited.add((points[i][0], points[i][1]))\n",
    "    \n",
    "    ok = True\n",
    "    \n",
    "    while len(q) > 0 and ok:\n",
    "        x, y = q.popleft()\n",
    "            \n",
    "        for direction in directions:\n",
    "            xx = x + direction[0]\n",
    "            yy = y + direction[1]\n",
    "            \n",
    "            if (xx, yy) in visited or (xx, yy) in bad:\n",
    "                continue\n",
    "                \n",
    "            dists = abs(xx - points[:, 0]) + abs(yy - points[:, 1])\n",
    "\n",
    "            mindist = min(dists)\n",
    "            if sum(dists == mindist) > 1 or argmin(dists) != i:\n",
    "                bad.add((xx, yy))\n",
    "                continue\n",
    "            \n",
    "            if mindist > 300:\n",
    "                bad.add((xx, yy))\n",
    "                ok = False\n",
    "                continue\n",
    "            \n",
    "            visited.add((xx, yy))\n",
    "            q.append((xx, yy))\n",
    "    \n",
    "    print(i, ok, len(visited))"
   ]
  },
  {
   "cell_type": "code",
   "execution_count": null,
   "metadata": {},
   "outputs": [],
   "source": []
  },
  {
   "cell_type": "code",
   "execution_count": 60,
   "metadata": {},
   "outputs": [
    {
     "data": {
      "application/vnd.jupyter.widget-view+json": {
       "model_id": "d125605d02c74967aa17e8a451cc8ea0",
       "version_major": 2,
       "version_minor": 0
      },
      "text/plain": [
       "HBox(children=(IntProgress(value=0, max=2000), HTML(value='')))"
      ]
     },
     "metadata": {},
     "output_type": "display_data"
    }
   ],
   "source": [
    "Z = zeros((2000, 2000), dtype=int)\n",
    "\n",
    "for i in tqdm(arange(-1000, 1000)):\n",
    "    for j in range(-1000, 1000):\n",
    "        dists = abs(i - points[:, 0]) + abs(j - points[:, 1])\n",
    "        \n",
    "        if sum(dists == min(dists)) > 1:\n",
    "            continue\n",
    "            \n",
    "        if argmin(dists) != 26:\n",
    "            continue\n",
    "            \n",
    "        Z[i + 1000, j + 1000] = 1"
   ]
  },
  {
   "cell_type": "code",
   "execution_count": 62,
   "metadata": {},
   "outputs": [
    {
     "data": {
      "text/plain": [
       "<matplotlib.image.AxesImage at 0x1110ab390>"
      ]
     },
     "execution_count": 62,
     "metadata": {},
     "output_type": "execute_result"
    },
    {
     "data": {
      "image/png": "[encoded data removed]",
      "text/plain": [
       "<Figure size 1920x1080 with 1 Axes>"
      ]
     },
     "metadata": {},
     "output_type": "display_data"
    }
   ],
   "source": [
    "imshow(Z)"
   ]
  },
  {
   "cell_type": "code",
   "execution_count": null,
   "metadata": {},
   "outputs": [],
   "source": []
  },
  {
   "cell_type": "code",
   "execution_count": null,
   "metadata": {},
   "outputs": [],
   "source": []
  },
  {
   "cell_type": "code",
   "execution_count": 40,
   "metadata": {},
   "outputs": [
    {
     "data": {
      "application/vnd.jupyter.widget-view+json": {
       "model_id": "ee82d853bc0c448382dcf8da5895ea7b",
       "version_major": 2,
       "version_minor": 0
      },
      "text/plain": [
       "HBox(children=(IntProgress(value=0, max=1300), HTML(value='')))"
      ]
     },
     "metadata": {},
     "output_type": "display_data"
    }
   ],
   "source": [
    "c = 0\n",
    "\n",
    "for i in tqdm(arange(-300, 1000)):\n",
    "    for j in range(-300, 1000):\n",
    "        dists = array([distance(i, j, k[0], k[1]) for k in points], dtype=int)\n",
    "        \n",
    "        mindist = min(dists)\n",
    "        if sum(dists) >= 10000:\n",
    "            continue\n",
    "            \n",
    "        c += 1"
   ]
  },
  {
   "cell_type": "code",
   "execution_count": 42,
   "metadata": {},
   "outputs": [
    {
     "data": {
      "text/plain": [
       "35294"
      ]
     },
     "execution_count": 42,
     "metadata": {},
     "output_type": "execute_result"
    }
   ],
   "source": [
    "c"
   ]
  },
  {
   "cell_type": "code",
   "execution_count": 48,
   "metadata": {},
   "outputs": [
    {
     "name": "stdout",
     "output_type": "stream",
     "text": [
      "True 35294\n"
     ]
    }
   ],
   "source": [
    "\n",
    "visited = set()\n",
    "q = collections.deque()\n",
    "\n",
    "p = (int(mean(points[:, 0])), int(mean(points[:, 1])))\n",
    "\n",
    "q.append(p)\n",
    "visited.add(p)\n",
    "\n",
    "ok = True\n",
    "\n",
    "while len(q) > 0 and ok:\n",
    "    x, y = q.popleft()\n",
    "\n",
    "    for direction in directions:\n",
    "        xx = x + direction[0]\n",
    "        yy = y + direction[1]\n",
    "\n",
    "        if (xx, yy) in visited:\n",
    "            continue\n",
    "\n",
    "        dists = array([abs(xx - k[0]) + abs(yy - k[1]) for k in points], dtype=int)\n",
    "            \n",
    "#         print(sum(dists))\n",
    "\n",
    "        if sum(dists) >= 10000:\n",
    "            continue\n",
    "\n",
    "        visited.add((xx, yy))\n",
    "        q.append((xx, yy))\n",
    "\n",
    "print(ok, len(visited))"
   ]
  }
 ],
 "metadata": {
  "kernelspec": {
   "display_name": "Python 3",
   "language": "python",
   "name": "python3"
  },
  "language_info": {
   "codemirror_mode": {
    "name": "ipython",
    "version": 3
   },
   "file_extension": ".py",
   "mimetype": "text/x-python",
   "name": "python",
   "nbconvert_exporter": "python",
   "pygments_lexer": "ipython3",
   "version": "3.7.0"
  }
 },
 "nbformat": 4,
 "nbformat_minor": 2
}
